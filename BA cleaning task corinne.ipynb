{
 "cells": [
  {
   "cell_type": "markdown",
   "metadata": {},
   "source": [
    "Python code to clean the data from the og file. Only for the rows: 19-24\n",
    "Questions: County and Postal code - should I match with coordinates?\n",
    "System and Model Number - match with "
   ]
  },
  {
   "cell_type": "code",
   "execution_count": null,
   "metadata": {},
   "outputs": [],
   "source": [
    "# Install pandas and openpyxl if needed\n",
    "# !pip install pandas openpyxl\n"
   ]
  },
  {
   "cell_type": "code",
   "execution_count": null,
   "metadata": {},
   "outputs": [],
   "source": [
    "import pandas as pd\n",
    "import numpy as np\n",
    "\n",
    "# Path to your Excel file\n",
    "file_path = r\"C:our-file-path.xlsx\"\n",
    "\n",
    "try:\n",
    "    # Load the Excel file\n",
    "    df = pd.read_excel(file_path)\n",
    "\n",
    "  # Convert 'Driver Postal Code' and 'User ID' to numeric data types\n",
    "    df['Driver Postal Code'] = pd.to_numeric(df['Driver Postal Code'], errors='coerce')  # Convert and set errors as NaN if conversion fails\n",
    "    df['User ID'] = pd.to_numeric(df['User ID'], errors='coerce')\n",
    "\n",
    "    # Print the data types of each column in the DataFrame after conversion\n",
    "    print(\"Data types of the columns after conversion:\")\n",
    "    print(df.dtypes)\n",
    "    print()  # Print a newline for better separation\n",
    "\n",
    "    # Iterate through each column in the DataFrame and print unique values\n",
    "    for column in df.columns:\n",
    "        print(f\"Unique values in '{column}':\")\n",
    "        unique_values = df[column].dropna().unique()  # Drop NA values to see only actual data\n",
    "        print(unique_values)\n",
    "        print()  # Print a newline for better separation of output for each column\n",
    "\n",
    "except Exception as e:\n",
    "    print(\"An error occurred:\", e)"
   ]
  },
  {
   "cell_type": "markdown",
   "metadata": {},
   "source": [
    "Cleaning County and Driver Postal Code. We don't have any specific data that can help navigate what Postal code it could be on empty rows we fill it in with 'Unknown'. For County wre can match the Driver Postal codes for eother users to identify the blank values. "
   ]
  },
  {
   "cell_type": "code",
   "execution_count": 11,
   "metadata": {},
   "outputs": [
    {
     "name": "stdout",
     "output_type": "stream",
     "text": [
      "['Santa Clara County' nan 'San Mateo County']\n",
      "County\n",
      "santa clara county    147263\n",
      "san mateo county       27487\n",
      "Name: count, dtype: int64\n"
     ]
    }
   ],
   "source": [
    "# Check unique values in the 'County' column to ensure correct spelling\n",
    "print(df['County'].unique())\n",
    "\n",
    "# make sure there are entries which match our conditions\n",
    "print(df['County'].str.strip().str.lower().value_counts())"
   ]
  },
  {
   "cell_type": "code",
   "execution_count": null,
   "metadata": {},
   "outputs": [],
   "source": [
    "# Cleaning \"Driver Postal Code\": Replace NaN values with 0\n",
    "df['Driver Postal Code'] = pd.to_numeric(df['Driver Postal Code'], errors='coerce')  # Convert to numeric, making non-convertible values NaN\n",
    "df['Driver Postal Code'].fillna(0, inplace=True)  # Replace NaNs with 0\n",
    "\n",
    "# Optionally, you can verify the conversion and filling:\n",
    "print(df['Driver Postal Code'].head())  # Print the first few entries to check the changes\n",
    "\n",
    "# 2. Extract unique postal codes where 'County' is 'Santa Clara County'\n",
    "santa_clara_postal_codes = df[df['County'] == 'Santa Clara County']['Driver Postal Code'].unique()\n",
    "print(\"Unique Driver Postal Codes for Santa Clara County:\")\n",
    "print(santa_clara_postal_codes)\n",
    "\n",
    "# 3. Extract unique postal codes where 'County' is 'San Mateo County'\n",
    "san_mateo_postal_codes = df[df['County'] == 'San Mateo County']['Driver Postal Code'].unique()\n",
    "print(\"Unique Driver Postal Codes for San Mateo County:\")\n",
    "print(san_mateo_postal_codes)"
   ]
  },
  {
   "cell_type": "code",
   "execution_count": 13,
   "metadata": {},
   "outputs": [
    {
     "name": "stdout",
     "output_type": "stream",
     "text": [
      "Remaining NaN in County: 402\n"
     ]
    }
   ],
   "source": [
    "# Create mapping dictionaries\n",
    "santa_clara_dict = {code: 'Santa Clara County' for code in santa_clara_postal_codes}\n",
    "san_mateo_dict = {code: 'San Mateo County' for code in san_mateo_postal_codes}\n",
    "\n",
    "# Combine dictionaries\n",
    "postal_code_to_county_dict = {**santa_clara_dict, **san_mateo_dict}\n",
    "\n",
    "# Function to determine county based on postal code\n",
    "def assign_county(row):\n",
    "    if pd.isna(row['County']) and row['Driver Postal Code'] in postal_code_to_county_dict:\n",
    "        return postal_code_to_county_dict[row['Driver Postal Code']]\n",
    "    else:\n",
    "        return row['County']\n",
    "\n",
    "# Apply the function to the dataframe, only if County is NaN\n",
    "df['County'] = df.apply(lambda row: assign_county(row) if pd.isna(row['County']) else row['County'], axis=1)\n",
    "\n",
    "# Check to see how many still have NaN\n",
    "print(f\"Remaining NaN in County: {df['County'].isna().sum()}\")\n",
    "\n",
    "# Optionally fill any remaining NaN county values with 'Unknown'\n",
    "df['County'] = df['County'].fillna('Unknown')"
   ]
  },
  {
   "cell_type": "code",
   "execution_count": null,
   "metadata": {},
   "outputs": [
    {
     "name": "stdout",
     "output_type": "stream",
     "text": [
      "Count of unregistered users (marked as 0) in User ID: 8171\n",
      "Deleted column System S/N due to 30.43% missing values.\n",
      "Deleted column Model Number due to 30.43% missing values.\n",
      "Data cleaning completed and file saved.\n"
     ]
    }
   ],
   "source": [
    "# Cleaning \"Ended By\": changing blanks (NaNs) to \"Unknown\"\n",
    "df['Ended By'] = df['Ended By'].fillna('Unknown')\n",
    "\n",
    "# Cleaning \"User ID\": Convert non-numeric 'User ID' to NaN, then replace NaNs and 0 with zero\n",
    "df['User ID'] = pd.to_numeric(df['User ID'], errors='coerce')  # This conversion sets non-numeric to NaN\n",
    "df['User ID'] = df['User ID'].fillna(0)  # Directly assigning back to the DataFrame column\n",
    "\n",
    "# Count how many User IDs are now marked as '0'\n",
    "unregistered_count = (df['User ID'] == 0).sum()\n",
    "print(f\"Count of unregistered users (marked as 0) in User ID: {unregistered_count}\")\n",
    "\n",
    "# Fill empty values in 'Model Number' with 'Unknown'\n",
    "df['Model Number'] = df['Model Number'].fillna('Unknown')\n",
    "\n",
    "# Handling columns with excessive missing data by either deleting them or filling in missing values NOT USING NOW\n",
    "# columns_to_check = ['System S/N', 'Model Number']\n",
    "#for column in columns_to_check:\n",
    "    #missing_percentage = df[column].isna().sum() / len(df)\n",
    "    #if missing_percentage > 0.30:\n",
    "        # Remove column if more than 30% data is missing\n",
    "        #df = df.drop(column, axis=1)  # Modify the DataFrame directly\n",
    "       # print(f\"Deleted column {column} due to {missing_percentage*100:.2f}% missing values.\")\n",
    "    #else:\n",
    "        # Fill missing values with 0 directly in the DataFrame for numeric columns\n",
    "       # df[column] = df[column].fillna(0)\n",
    "       # print(f\"Filled missing values in column {column} with 0.\")\n",
    "\n",
    "# Save the cleaned DataFrame back to an Excel file\n",
    "output_path = r'C:our-file-path.xlsx'\n",
    "df.to_excel(output_path, index=False)\n",
    "print(\"Data cleaning completed and file saved.\")"
   ]
  }
 ],
 "metadata": {
  "kernelspec": {
   "display_name": "Python 3",
   "language": "python",
   "name": "python3"
  },
  "language_info": {
   "codemirror_mode": {
    "name": "ipython",
    "version": 3
   },
   "file_extension": ".py",
   "mimetype": "text/x-python",
   "name": "python",
   "nbconvert_exporter": "python",
   "pygments_lexer": "ipython3",
   "version": "3.11.9"
  }
 },
 "nbformat": 4,
 "nbformat_minor": 2
}
