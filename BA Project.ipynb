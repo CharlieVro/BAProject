{
 "cells": [
  {
   "cell_type": "code",
   "execution_count": 4,
   "id": "f782c059-3ef0-4d80-b4de-ed3402e9e275",
   "metadata": {},
   "outputs": [
    {
     "name": "stdout",
     "output_type": "stream",
     "text": [
      "                          Station Name          MAC Address  \\\n",
      "0           PALO ALTO CA / HAMILTON #1  000D:6F00:015A:9D76   \n",
      "1           PALO ALTO CA / HAMILTON #1  000D:6F00:015A:9D76   \n",
      "2           PALO ALTO CA / HAMILTON #1  000D:6F00:015A:9D76   \n",
      "3           PALO ALTO CA / HAMILTON #1  000D:6F00:015A:9D76   \n",
      "4           PALO ALTO CA / HAMILTON #1  000D:6F00:015A:9D76   \n",
      "...                                ...                  ...   \n",
      "259410  PALO ALTO CA / TED THOMPSON #3  0024:B100:0002:9F81   \n",
      "259411       PALO ALTO CA / WEBSTER #1  0024:B100:0002:4233   \n",
      "259412           PALO ALTO CA / MPL #4  0024:B100:0003:CD37   \n",
      "259413       PALO ALTO CA / WEBSTER #1  0024:B100:0002:4233   \n",
      "259414     PALO ALTO CA / CAMBRIDGE #4  0024:B100:0003:3A0A   \n",
      "\n",
      "                  Org Name        Start Date Start Time Zone  \\\n",
      "0        City of Palo Alto   7/29/2011 20:17             PDT   \n",
      "1        City of Palo Alto    7/30/2011 0:00             PDT   \n",
      "2        City of Palo Alto    7/30/2011 8:16             PDT   \n",
      "3        City of Palo Alto   7/30/2011 14:51             PDT   \n",
      "4        City of Palo Alto   7/30/2011 18:51             PDT   \n",
      "...                    ...               ...             ...   \n",
      "259410  City of Palo Alto   12/31/2020 16:39             PST   \n",
      "259411  City of Palo Alto   12/31/2020 16:48             PST   \n",
      "259412  City of Palo Alto   12/31/2020 17:28             PST   \n",
      "259413  City of Palo Alto   12/31/2020 17:49             PST   \n",
      "259414  City of Palo Alto   12/31/2020 18:19             PST   \n",
      "\n",
      "                End Date End Time Zone Transaction Date (Pacific Time)  \\\n",
      "0        7/29/2011 23:20           PDT                 7/29/2011 23:20   \n",
      "1         7/30/2011 0:02           PDT                  7/30/2011 0:02   \n",
      "2        7/30/2011 12:34           PDT                 7/30/2011 12:34   \n",
      "3        7/30/2011 16:55           PDT                 7/30/2011 16:55   \n",
      "4        7/30/2011 20:03           PDT                 7/30/2011 20:03   \n",
      "...                  ...           ...                             ...   \n",
      "259410  12/31/2020 17:14           PST                12/31/2020 17:16   \n",
      "259411  12/31/2020 20:31           PST                12/31/2020 20:32   \n",
      "259412    1/1/2021 10:56           PST                  1/1/2021 10:57   \n",
      "259413  12/31/2020 21:55           PST                12/31/2020 21:56   \n",
      "259414  12/31/2020 19:01           PST                12/31/2020 19:02   \n",
      "\n",
      "       Total Duration (hh:mm:ss) Charging Time (hh:mm:ss)  ...  \\\n",
      "0                        3:03:32                  1:54:03  ...   \n",
      "1                        0:02:06                  0:01:54  ...   \n",
      "2                        4:17:32                  4:17:28  ...   \n",
      "3                        2:03:24                  2:02:58  ...   \n",
      "4                        1:11:24                  0:43:54  ...   \n",
      "...                          ...                      ...  ...   \n",
      "259410                   0:35:44                  0:35:18  ...   \n",
      "259411                   3:43:01                  2:14:04  ...   \n",
      "259412                  17:28:14                  5:08:12  ...   \n",
      "259413                   4:05:34                  3:53:42  ...   \n",
      "259414                   0:42:07                  0:41:44  ...   \n",
      "\n",
      "                   Ended By  Plug In Event Id  Driver Postal Code  User ID  \\\n",
      "0       Plug Out at Vehicle                 3             95124.0     3284   \n",
      "1                  Customer                 4             94301.0     4169   \n",
      "2       Plug Out at Vehicle                 5             94301.0     4169   \n",
      "3                  Customer                 6             94302.0     2545   \n",
      "4       Plug Out at Vehicle                 7             94043.0     3765   \n",
      "...                     ...               ...                 ...      ...   \n",
      "259410  Plug Out at Vehicle              2369             94301.0  2024201   \n",
      "259411  Plug Out at Vehicle              7255             94541.0   242661   \n",
      "259412  Plug Out at Vehicle               455             94306.0   449995   \n",
      "259413  Plug Out at Vehicle              7256             94552.0   804075   \n",
      "259414  Plug Out at Vehicle              2302             94305.0  2022651   \n",
      "\n",
      "                    County    System S/N  Model Number  \\\n",
      "0                      NaN           NaN           NaN   \n",
      "1                      NaN           NaN           NaN   \n",
      "2                      NaN           NaN           NaN   \n",
      "3                      NaN           NaN           NaN   \n",
      "4                      NaN           NaN           NaN   \n",
      "...                    ...           ...           ...   \n",
      "259410                 NaN  1.745410e+11  CT4020-HD-GW   \n",
      "259411  Santa Clara County  1.336410e+11  CT4020-HD-GW   \n",
      "259412  Santa Clara County  2.002410e+11  CT4010-HD-GW   \n",
      "259413  Santa Clara County  1.336410e+11  CT4020-HD-GW   \n",
      "259414  Santa Clara County  1.852410e+11  CT4020-HD-GW   \n",
      "\n",
      "       Total Duration (seconds) Charging Time (seconds) Energy (kWh) (decimal)  \n",
      "0                         11012                    6843               6.249457  \n",
      "1                           126                     114               0.106588  \n",
      "2                         15452                   15448              14.951777  \n",
      "3                          7404                    7378               7.159643  \n",
      "4                          4284                    2634               1.957765  \n",
      "...                         ...                     ...                    ...  \n",
      "259410                     2144                    2118               1.841000  \n",
      "259411                    13381                    8044              12.744000  \n",
      "259412                    62894                   18492              29.665000  \n",
      "259413                    14734                   14022              11.976000  \n",
      "259414                     2527                    2504               1.571000  \n",
      "\n",
      "[259415 rows x 36 columns]\n"
     ]
    }
   ],
   "source": [
    "import pandas as pd\n",
    "\n",
    "import numpy as np\n",
    "\n",
    "df = pd.read_csv('EVChargingStationUsage.csv',low_memory=False)\n",
    "\n",
    "print(df)\n",
    "\n"
   ]
  },
  {
   "cell_type": "code",
   "execution_count": 5,
   "id": "1d031dc9-bd37-49db-8d0b-f9af2f2c99a2",
   "metadata": {},
   "outputs": [
    {
     "name": "stdout",
     "output_type": "stream",
     "text": [
      "  Total Duration (hh:mm:ss)  Total Duration (seconds)\n",
      "0                   3:03:32                     11012\n",
      "1                   0:02:06                       126\n",
      "2                   4:17:32                     15452\n",
      "3                   2:03:24                      7404\n",
      "4                   1:11:24                      4284\n"
     ]
    }
   ],
   "source": [
    "# Step 1: Import necessary libraries\n",
    "import pandas as pd\n",
    "import numpy as np\n",
    "\n",
    "# Step 2: Load the dataset\n",
    "df = pd.read_csv('EVChargingStationUsage.csv', low_memory=False)  # Ensure the correct file path\n",
    "\n",
    "# Step 3: Convert \"Total Duration (hh:mm:ss)\" to seconds\n",
    "# Define the function to convert time in hh:mm:ss format to seconds\n",
    "def convert_to_seconds(time_str):\n",
    "    try:\n",
    "        # Split the time string into hours, minutes, and seconds\n",
    "        h, m, s = map(int, time_str.split(':'))\n",
    "        # Return the total duration in seconds\n",
    "        return h * 3600 + m * 60 + s\n",
    "    except ValueError:\n",
    "        return np.nan  # Handle cases where the format isn't as expected\n",
    "\n",
    "# Apply the function to the \"Total Duration (hh:mm:ss)\" column and create a new column in seconds\n",
    "df['Total Duration (seconds)'] = df['Total Duration (hh:mm:ss)'].apply(convert_to_seconds)\n",
    "\n",
    "# Display the updated dataframe to check the conversion\n",
    "print(df[['Total Duration (hh:mm:ss)', 'Total Duration (seconds)']].head())\n"
   ]
  },
  {
   "cell_type": "code",
   "execution_count": 6,
   "id": "612133e2-ca13-46fd-ae6d-6ed45a96d78d",
   "metadata": {},
   "outputs": [
    {
     "name": "stdout",
     "output_type": "stream",
     "text": [
      "  Total Duration (hh:mm:ss)  Total Duration (seconds)\n",
      "0                   3:03:32                     11012\n",
      "1                   0:02:06                       126\n",
      "2                   4:17:32                     15452\n",
      "3                   2:03:24                      7404\n",
      "4                   1:11:24                      4284\n",
      "5                   3:52:13                     13933\n",
      "6                   6:06:19                     21979\n",
      "7                   1:09:54                      4194\n",
      "8                   4:49:46                     17386\n",
      "9                   3:23:34                     12214\n"
     ]
    }
   ],
   "source": [
    "# Display more rows to check the conversion for the entire column\n",
    "print(df[['Total Duration (hh:mm:ss)', 'Total Duration (seconds)']].head(10))\n"
   ]
  },
  {
   "cell_type": "code",
   "execution_count": 7,
   "id": "2401184c-bed5-432c-b42b-6294505722bb",
   "metadata": {},
   "outputs": [],
   "source": [
    "# Overwrite the original CSV file with the updated data\n",
    "df.to_csv('EVChargingStationUsage.csv', index=False)"
   ]
  },
  {
   "cell_type": "code",
   "execution_count": 8,
   "id": "d30407ce-0eee-45e1-a462-98819049a6b8",
   "metadata": {},
   "outputs": [
    {
     "name": "stdout",
     "output_type": "stream",
     "text": [
      "  Charging Time (hh:mm:ss)  Charging Time (seconds)\n",
      "0                  1:54:03                     6843\n",
      "1                  0:01:54                      114\n",
      "2                  4:17:28                    15448\n",
      "3                  2:02:58                     7378\n",
      "4                  0:43:54                     2634\n"
     ]
    }
   ],
   "source": [
    "# Step 1: Define the function to convert time in hh:mm:ss format to seconds (already defined above)\n",
    "\n",
    "# Step 2: Apply the function to the \"Charging Time (hh:mm:ss)\" column\n",
    "df['Charging Time (seconds)'] = df['Charging Time (hh:mm:ss)'].apply(convert_to_seconds)\n",
    "\n",
    "# Step 3: Display the updated dataframe to check the conversion\n",
    "print(df[['Charging Time (hh:mm:ss)', 'Charging Time (seconds)']].head())\n"
   ]
  },
  {
   "cell_type": "code",
   "execution_count": 9,
   "id": "7e7fce49-224d-4ed1-912b-93f8513a5df4",
   "metadata": {},
   "outputs": [],
   "source": [
    "# Overwrite the original CSV file with the updated data\n",
    "df.to_csv('EVChargingStationUsage.csv', index=False)\n"
   ]
  },
  {
   "cell_type": "code",
   "execution_count": 11,
   "id": "64857800-89f1-433a-88b5-071d37296eee",
   "metadata": {},
   "outputs": [
    {
     "name": "stdout",
     "output_type": "stream",
     "text": [
      "   Energy (kWh)\n",
      "0      6.249457\n",
      "1      0.106588\n",
      "2     14.951777\n",
      "3      7.159643\n",
      "4      1.957765\n"
     ]
    }
   ],
   "source": [
    "# Step 1: Replace commas with dots in the \"Energy (kWh)\" column\n",
    "df['Energy (kWh)'] = df['Energy (kWh)'].astype(str).str.replace(',', '.').astype(float)\n",
    "\n",
    "# Step 2: Display the updated column to verify the changes\n",
    "print(df[['Energy (kWh)']].head())\n"
   ]
  },
  {
   "cell_type": "code",
   "execution_count": 12,
   "id": "c54727af-5afd-4ba6-b58a-24c0f1fe4c0a",
   "metadata": {},
   "outputs": [],
   "source": [
    "# Overwrite the original CSV file with the updated data\n",
    "df.to_csv('EVChargingStationUsage.csv', index=False)"
   ]
  },
  {
   "cell_type": "code",
   "execution_count": 15,
   "id": "2d0c4c3b-fcbf-44d7-9f7b-398d6f45bbbd",
   "metadata": {},
   "outputs": [
    {
     "name": "stdout",
     "output_type": "stream",
     "text": [
      "float64\n",
      "   Energy (kWh)\n",
      "0      6.249457\n",
      "1      0.106588\n",
      "2     14.951777\n",
      "3      7.159643\n",
      "4      1.957765\n"
     ]
    }
   ],
   "source": [
    "# Step 1: Replace commas with dots and convert the column to float (decimal numbers)\n",
    "df['Energy (kWh)'] = df['Energy (kWh)'].astype(str).str.replace(',', '.').astype(float)\n",
    "\n",
    "# Step 2: Verify that the entire column is now in decimal (float) format\n",
    "print(df['Energy (kWh)'].dtype)  # This should output 'float64'\n",
    "\n",
    "# Step 3: Display a few rows to check if the changes are correct\n",
    "print(df[['Energy (kWh)']].head())\n"
   ]
  },
  {
   "cell_type": "code",
   "execution_count": 16,
   "id": "749f1c60-a369-4e87-a97a-85a711f937da",
   "metadata": {},
   "outputs": [],
   "source": [
    "# Overwrite the original CSV file with the updated data\n",
    "df.to_csv('EVChargingStationUsage.csv', index=False)"
   ]
  },
  {
   "cell_type": "code",
   "execution_count": 17,
   "id": "ffa6018b-a8d7-484c-9a40-d3002a8c2b6c",
   "metadata": {},
   "outputs": [
    {
     "name": "stdout",
     "output_type": "stream",
     "text": [
      "   Energy (kWh)  Energy (kWh) (decimal)\n",
      "0      6.249457                6.249457\n",
      "1      0.106588                0.106588\n",
      "2     14.951777               14.951777\n",
      "3      7.159643                7.159643\n",
      "4      1.957765                1.957765\n"
     ]
    }
   ],
   "source": [
    "# Step 1: Replace commas with dots and convert the column to float (decimal numbers)\n",
    "df['Energy (kWh) (decimal)'] = df['Energy (kWh)'].astype(str).str.replace(',', '.').astype(float)\n",
    "\n",
    "# Step 2: Display the updated dataframe to check the new column\n",
    "print(df[['Energy (kWh)', 'Energy (kWh) (decimal)']].head())\n"
   ]
  },
  {
   "cell_type": "code",
   "execution_count": 18,
   "id": "71411d8f-0934-42ac-872e-fb961e893b79",
   "metadata": {},
   "outputs": [],
   "source": [
    "# Overwrite the original CSV file with the updated data\n",
    "df.to_csv('EVChargingStationUsage.csv', index=False)"
   ]
  },
  {
   "cell_type": "code",
   "execution_count": 21,
   "id": "a9a3f09f-6b1f-4f7e-bf33-74a78665e471",
   "metadata": {},
   "outputs": [
    {
     "name": "stdout",
     "output_type": "stream",
     "text": [
      "Station Name                        object\n",
      "MAC Address                         object\n",
      "Org Name                            object\n",
      "Start Date                          object\n",
      "Start Time Zone                     object\n",
      "End Date                            object\n",
      "End Time Zone                       object\n",
      "Transaction Date (Pacific Time)     object\n",
      "Total Duration (hh:mm:ss)           object\n",
      "Charging Time (hh:mm:ss)            object\n",
      "Energy (kWh)                       float64\n",
      "GHG Savings (kg)                   float64\n",
      "Gasoline Savings (gallons)         float64\n",
      "Port Type                           object\n",
      "Port Number                          int64\n",
      "Plug Type                           object\n",
      "EVSE ID                            float64\n",
      "Address 1                           object\n",
      "City                                object\n",
      "State/Province                      object\n",
      "Postal Code                          int64\n",
      "Country                             object\n",
      "Latitude                           float64\n",
      "Longitude                          float64\n",
      "Currency                            object\n",
      "Fee                                float64\n",
      "Ended By                            object\n",
      "Plug In Event Id                     int64\n",
      "Driver Postal Code                 float64\n",
      "User ID                             object\n",
      "County                              object\n",
      "System S/N                         float64\n",
      "Model Number                        object\n",
      "Total Duration (seconds)             int64\n",
      "Charging Time (seconds)              int64\n",
      "Energy (kWh) (decimal)             float64\n",
      "dtype: object\n"
     ]
    }
   ],
   "source": [
    "print(df.dtypes)"
   ]
  },
  {
   "cell_type": "code",
   "execution_count": 30,
   "id": "0e3c26e2-1a18-47f4-aa0b-35458a3aa08a",
   "metadata": {},
   "outputs": [
    {
     "name": "stdout",
     "output_type": "stream",
     "text": [
      "   Plug Type Port Type\n",
      "0      J1772   Level 2\n",
      "1      J1772   Level 2\n",
      "2      J1772   Level 2\n",
      "3      J1772   Level 2\n",
      "4      J1772   Level 2\n",
      "5      J1772   Level 2\n",
      "6      J1772   Level 2\n",
      "7      J1772   Level 2\n",
      "8      J1772   Level 2\n",
      "9      J1772   Level 2\n",
      "10     J1772   Level 2\n",
      "11     J1772   Level 2\n",
      "12     J1772   Level 2\n",
      "13     J1772   Level 2\n",
      "14     J1772   Level 2\n",
      "15     J1772   Level 2\n",
      "16     J1772   Level 2\n",
      "17     J1772   Level 2\n",
      "18     J1772   Level 2\n",
      "19     J1772   Level 2\n"
     ]
    }
   ],
   "source": [
    "# Fill empty cells in the \"Port Type\" column based on conditions\n",
    "df['Port Type'] = df.apply(\n",
    "    lambda row: 'Level 1' if pd.isna(row['Port Type']) and row['Plug Type'] == 'NEMA 5-20R' else \n",
    "                ('Level 2' if pd.isna(row['Port Type']) else row['Port Type']), axis=1\n",
    ")\n",
    "\n",
    "# Display a few rows to verify the changes\n",
    "print(df[['Plug Type', 'Port Type']].head(20))  # Adjust the number of rows displayed as needed\n"
   ]
  },
  {
   "cell_type": "code",
   "execution_count": 34,
   "id": "4a1988fe-c1fb-4642-9759-42e7e8bf1621",
   "metadata": {},
   "outputs": [],
   "source": [
    "# Save the updated DataFrame to a new CSV file or overwrite the original\n",
    "df.to_csv('Updated_EVChargingStationUsage.csv', index=False)\n"
   ]
  },
  {
   "cell_type": "code",
   "execution_count": 36,
   "id": "0e2eba40-827a-4a1b-81cd-f3dfd5413157",
   "metadata": {},
   "outputs": [
    {
     "name": "stdout",
     "output_type": "stream",
     "text": [
      "Objective 1: 'Total Duration' converted to seconds - DONE\n",
      "Objective 2: 'Charging Time' converted to seconds - DONE\n",
      "Objective 3: 'Energy (kWh)' formatted as decimal - DONE\n",
      "Objective 4: 'GHG Savings (kg)' formatted as decimal - DONE\n",
      "Objective 5: 'Gasoline Savings (gallons)' formatted as decimal - DONE\n",
      "Extra Check: 'Port Type' filled correctly based on 'Plug Type' - DONE\n"
     ]
    }
   ],
   "source": [
    "# Objective 1: Check if \"Total Duration\" has been converted to seconds\n",
    "if 'Total Duration (seconds)' in df.columns and df['Total Duration (seconds)'].dtype in ['int64', 'float64']:\n",
    "    print(\"Objective 1: 'Total Duration' converted to seconds - DONE\")\n",
    "else:\n",
    "    print(\"Objective 1: 'Total Duration' converted to seconds - NOT DONE\")\n",
    "\n",
    "# Objective 2: Check if \"Charging Time\" has been converted to seconds\n",
    "if 'Charging Time (seconds)' in df.columns and df['Charging Time (seconds)'].dtype in ['int64', 'float64']:\n",
    "    print(\"Objective 2: 'Charging Time' converted to seconds - DONE\")\n",
    "else:\n",
    "    print(\"Objective 2: 'Charging Time' converted to seconds - NOT DONE\")\n",
    "\n",
    "# Objective 3: Check if commas in \"Energy (kWh)\" have been replaced with periods and column is in decimal format\n",
    "if df['Energy (kWh)'].dtype in ['int64', 'float64'] and df['Energy (kWh)'].apply(lambda x: ',' not in str(x)).all():\n",
    "    print(\"Objective 3: 'Energy (kWh)' formatted as decimal - DONE\")\n",
    "else:\n",
    "    print(\"Objective 3: 'Energy (kWh)' formatted as decimal - NOT DONE\")\n",
    "\n",
    "# Objective 4: Check if commas in \"GHG Savings (kg)\" have been replaced with periods and column is in decimal format\n",
    "if df['GHG Savings (kg)'].dtype in ['int64', 'float64'] and df['GHG Savings (kg)'].apply(lambda x: ',' not in str(x)).all():\n",
    "    print(\"Objective 4: 'GHG Savings (kg)' formatted as decimal - DONE\")\n",
    "else:\n",
    "    print(\"Objective 4: 'GHG Savings (kg)' formatted as decimal - NOT DONE\")\n",
    "\n",
    "# Objective 5: Check if commas in \"Gasoline Savings (gallons)\" have been replaced with periods and column is in decimal format\n",
    "if df['Gasoline Savings (gallons)'].dtype in ['int64', 'float64'] and df['Gasoline Savings (gallons)'].apply(lambda x: ',' not in str(x)).all():\n",
    "    print(\"Objective 5: 'Gasoline Savings (gallons)' formatted as decimal - DONE\")\n",
    "else:\n",
    "    print(\"Objective 5: 'Gasoline Savings (gallons)' formatted as decimal - NOT DONE\")\n",
    "\n",
    "# Extra Check: Verify that \"Port Type\" is correctly filled based on \"Plug Type\" conditions\n",
    "if df.apply(lambda row: row['Port Type'] == 'Level 1' if row['Plug Type'] == 'NEMA 5-20R' else row['Port Type'] == 'Level 2', axis=1).all():\n",
    "    print(\"Extra Check: 'Port Type' filled correctly based on 'Plug Type' - DONE\")\n",
    "else:\n",
    "    print(\"Extra Check: 'Port Type' filled correctly based on 'Plug Type' - NOT DONE\")\n"
   ]
  },
  {
   "cell_type": "code",
   "execution_count": null,
   "id": "2411034e-f7f5-4a39-93f1-8e6032318b49",
   "metadata": {},
   "outputs": [],
   "source": []
  }
 ],
 "metadata": {
  "kernelspec": {
   "display_name": "Python 3 (ipykernel)",
   "language": "python",
   "name": "python3"
  },
  "language_info": {
   "codemirror_mode": {
    "name": "ipython",
    "version": 3
   },
   "file_extension": ".py",
   "mimetype": "text/x-python",
   "name": "python",
   "nbconvert_exporter": "python",
   "pygments_lexer": "ipython3",
   "version": "3.12.4"
  }
 },
 "nbformat": 4,
 "nbformat_minor": 5
}
